{
 "cells": [
  {
   "cell_type": "markdown",
   "metadata": {},
   "source": [
    "# Config"
   ]
  },
  {
   "cell_type": "code",
   "execution_count": 141,
   "metadata": {},
   "outputs": [],
   "source": [
    "from dotenv import dotenv_values"
   ]
  },
  {
   "cell_type": "code",
   "execution_count": 142,
   "metadata": {},
   "outputs": [],
   "source": [
    "config = dotenv_values('../.env')"
   ]
  },
  {
   "cell_type": "code",
   "execution_count": null,
   "metadata": {},
   "outputs": [
    {
     "data": {
      "text/plain": [
       "dict_keys(['SRC_DIR', 'DST_BUCKET_NAME', 'APP_KEY_ID', 'APP_KEY'])"
      ]
     },
     "metadata": {},
     "output_type": "display_data"
    }
   ],
   "source": [
    "config.keys()"
   ]
  },
  {
   "cell_type": "markdown",
   "metadata": {},
   "source": [
    "# Tutorial\n",
    "\n",
    "[Docs](https://b2-sdk-python.readthedocs.io/en/master/tutorial.html)"
   ]
  },
  {
   "cell_type": "code",
   "execution_count": 6,
   "metadata": {},
   "outputs": [],
   "source": [
    "from b2sdk.v2 import InMemoryAccountInfo\n",
    "from b2sdk.v2 import B2Api"
   ]
  },
  {
   "cell_type": "code",
   "execution_count": 7,
   "metadata": {},
   "outputs": [],
   "source": [
    "info = InMemoryAccountInfo()  # store credentials, tokens and cache in memory\n",
    "b2_api = B2Api(info)"
   ]
  },
  {
   "cell_type": "code",
   "execution_count": 27,
   "metadata": {},
   "outputs": [],
   "source": [
    "# See keys on https://secure.backblaze.com/app_keys.htm?bznetid=166296201634409690118\n",
    "# Used key: all-buckets-key\n",
    "application_key_id = config['APP_KEY_ID']\n",
    "application_key = config['APP_KEY']\n",
    "b2_api.authorize_account(\"production\", application_key_id, application_key)"
   ]
  },
  {
   "cell_type": "code",
   "execution_count": 28,
   "metadata": {},
   "outputs": [
    {
     "data": {
      "text/plain": [
       "[Bucket<ab9f3175869688ae78c20316,maz-test,allPrivate>,\n",
       " Bucket<9b1f916556c688ae78c20316,rasppi4,allPrivate>]"
      ]
     },
     "execution_count": 28,
     "metadata": {},
     "output_type": "execute_result"
    }
   ],
   "source": [
    "b2_api.list_buckets()"
   ]
  },
  {
   "cell_type": "code",
   "execution_count": 29,
   "metadata": {},
   "outputs": [
    {
     "data": {
      "text/plain": [
       "Bucket<ab9f3175869688ae78c20316,maz-test,allPrivate>"
      ]
     },
     "execution_count": 29,
     "metadata": {},
     "output_type": "execute_result"
    }
   ],
   "source": [
    "bucket_name = 'maz-test'\n",
    "bucket = b2_api.get_bucket_by_name(bucket_name)\n",
    "bucket"
   ]
  },
  {
   "cell_type": "markdown",
   "metadata": {},
   "source": [
    "# Generate src file list\n",
    "\n",
    "While repecting `.gitignore` files"
   ]
  },
  {
   "cell_type": "code",
   "execution_count": 35,
   "metadata": {},
   "outputs": [],
   "source": [
    "import re\n",
    "from pathlib import Path\n",
    "from typing import Iterable, Union\n",
    "\n",
    "from gitignore_parser import parse_gitignore"
   ]
  },
  {
   "cell_type": "markdown",
   "metadata": {},
   "source": [
    "Types from [https://b2-sdk-python.readthedocs.io/en/master/api/sync.html#public-api-classes](https://b2-sdk-python.readthedocs.io/en/master/api/sync.html#public-api-classes)"
   ]
  },
  {
   "cell_type": "code",
   "execution_count": 135,
   "metadata": {},
   "outputs": [
    {
     "data": {
      "text/plain": [
       "WindowsPath('folder1')"
      ]
     },
     "execution_count": 135,
     "metadata": {},
     "output_type": "execute_result"
    }
   ],
   "source": [
    "Path(src_path / 'folder1').relative_to(src_path)"
   ]
  },
  {
   "cell_type": "code",
   "execution_count": 138,
   "metadata": {},
   "outputs": [],
   "source": [
    "src_path: Path = Path('./src')\n",
    "verbose: bool = True\n",
    "\n",
    "excluded_files: Iterable[Union[str, re.Pattern]] = [] # see exclude_file_regexes\n",
    "# excluded_dirs : Iterable[Union[str, re.Pattern]] = [] # see exclude_dir_regexes\n",
    "\n",
    "def path_to_regex(path: Path) -> str:\n",
    "    return path.as_posix().replace('/', '\\/').replace('.', '\\.')\n",
    "\n",
    "def gen_exclude_lists(curr_dir: Path = src_path):\n",
    "    paths_in_curr_dir = list(curr_dir.iterdir())\n",
    "    possible_gitignore_path = curr_dir / '.gitignore'\n",
    "\n",
    "    has_gitignore = possible_gitignore_path in paths_in_curr_dir\n",
    "    if has_gitignore:\n",
    "        # if verbose: print(f'{curr_dir} has a .gitignore')\n",
    "        matches = parse_gitignore(possible_gitignore_path)\n",
    "\n",
    "    for path in paths_in_curr_dir:\n",
    "        if path.is_dir():\n",
    "            gen_exclude_lists(path)\n",
    "        elif path.is_file():\n",
    "            if has_gitignore and matches(path):\n",
    "                if verbose: print(f'ign {path}')\n",
    "                # remove first part of the path as it is the source\n",
    "                path = path.relative_to(src_path)\n",
    "                excluded_files.append(path_to_regex(path))\n",
    "        else:\n",
    "            raise ValueError(f'{path} is neither file nor dir! not sure how to proceed!')"
   ]
  },
  {
   "cell_type": "code",
   "execution_count": 139,
   "metadata": {},
   "outputs": [
    {
     "name": "stdout",
     "output_type": "stream",
     "text": [
      "ign src\\folder1\\file2.py\n",
      "ign src\\folder2\\file2.txt\n",
      "ign src\\folder2\\nested_folder1\\file2.txt\n",
      "ign src\\folder3\\file1.txt\n",
      "ign src\\folder3\\file3.txt\n"
     ]
    }
   ],
   "source": [
    "gen_exclude_lists()"
   ]
  },
  {
   "cell_type": "code",
   "execution_count": 140,
   "metadata": {},
   "outputs": [
    {
     "data": {
      "text/plain": [
       "['folder1\\\\/file2\\\\.py',\n",
       " 'folder2\\\\/file2\\\\.txt',\n",
       " 'folder2\\\\/nested_folder1\\\\/file2\\\\.txt',\n",
       " 'folder3\\\\/file1\\\\.txt',\n",
       " 'folder3\\\\/file3\\\\.txt']"
      ]
     },
     "execution_count": 140,
     "metadata": {},
     "output_type": "execute_result"
    }
   ],
   "source": [
    "excluded_files"
   ]
  },
  {
   "cell_type": "markdown",
   "metadata": {},
   "source": [
    "# Synchronizer\n",
    "\n",
    "[Docs](https://b2-sdk-python.readthedocs.io/en/master/api/sync.html)"
   ]
  },
  {
   "cell_type": "code",
   "execution_count": 8,
   "metadata": {},
   "outputs": [],
   "source": [
    "import time\n",
    "import sys"
   ]
  },
  {
   "cell_type": "code",
   "execution_count": 23,
   "metadata": {},
   "outputs": [],
   "source": [
    "from b2sdk.v2 import ScanPoliciesManager\n",
    "from b2sdk.v2 import parse_sync_folder\n",
    "from b2sdk.v2 import SyncReport\n",
    "from b2sdk.v2 import Synchronizer\n",
    "from b2sdk.v2 import KeepOrDeleteMode, CompareVersionMode, NewerFileSyncMode"
   ]
  },
  {
   "cell_type": "code",
   "execution_count": 123,
   "metadata": {},
   "outputs": [],
   "source": [
    "src = parse_sync_folder(str(src_path), b2_api)\n",
    "dst = parse_sync_folder('b2://maz-test', b2_api,)"
   ]
  },
  {
   "cell_type": "code",
   "execution_count": 124,
   "metadata": {},
   "outputs": [],
   "source": [
    "policies_manager = ScanPoliciesManager(\n",
    "    exclude_all_symlinks=True,\n",
    "    exclude_file_regexes=excluded_files,\n",
    ")"
   ]
  },
  {
   "cell_type": "code",
   "execution_count": 127,
   "metadata": {},
   "outputs": [],
   "source": [
    "synchronizer = Synchronizer(\n",
    "    max_workers=10,\n",
    "    policies_manager=policies_manager,\n",
    "    dry_run=False,\n",
    "    allow_empty_source=True,\n",
    "    compare_version_mode=CompareVersionMode.MODTIME,\n",
    "    compare_threshold=10,\n",
    "    newer_file_mode=NewerFileSyncMode.REPLACE,\n",
    "    keep_days_or_delete=KeepOrDeleteMode.DELETE, # delete old folders\n",
    "    keep_days=10,\n",
    ")"
   ]
  },
  {
   "cell_type": "code",
   "execution_count": 128,
   "metadata": {},
   "outputs": [
    {
     "name": "stdout",
     "output_type": "stream",
     "text": [
      "upload folder1/.gitignore\n",
      "upload folder2/nested_folder1/.gitignore\n",
      "upload folder3/.gitignore\n",
      "upload folder1/file1.txt\n",
      "upload folder2/nested_folder1/file1.txt\n",
      "upload folder2/.gitignore\n",
      "upload folder3/file2.txt\n",
      "upload folder2/file1.txt\n"
     ]
    }
   ],
   "source": [
    "no_progress = True\n",
    "with SyncReport(sys.stdout, no_progress) as reporter:\n",
    "    synchronizer.sync_folders(\n",
    "        source_folder=src,\n",
    "        dest_folder=dst,\n",
    "        now_millis=int(round(time.time() * 1000)),\n",
    "        reporter=reporter,\n",
    "    )"
   ]
  },
  {
   "cell_type": "markdown",
   "metadata": {},
   "source": [
    "# List files in a bucket\n",
    "\n",
    "[Docs](https://b2-sdk-python.readthedocs.io/en/master/quick_start.html#list-files)"
   ]
  },
  {
   "cell_type": "code",
   "execution_count": 106,
   "metadata": {},
   "outputs": [
    {
     "data": {
      "text/plain": [
       "Bucket<ab9f3175869688ae78c20316,maz-test,allPrivate>"
      ]
     },
     "execution_count": 106,
     "metadata": {},
     "output_type": "execute_result"
    }
   ],
   "source": [
    "bucket_name = 'maz-test'\n",
    "bucket = b2_api.get_bucket_by_name(bucket_name)\n",
    "bucket"
   ]
  },
  {
   "cell_type": "markdown",
   "metadata": {},
   "source": [
    "## Only top-level"
   ]
  },
  {
   "cell_type": "code",
   "execution_count": 129,
   "metadata": {},
   "outputs": [
    {
     "name": "stdout",
     "output_type": "stream",
     "text": [
      "folder1/.gitignore 1634414393000 folder1/\n",
      "folder2/.gitignore 1634414393000 folder2/\n",
      "folder3/.gitignore 1634414393000 folder3/\n"
     ]
    }
   ],
   "source": [
    "for file_version, folder_name in bucket.ls(latest_only=True):\n",
    "    print(file_version.file_name, file_version.upload_timestamp, folder_name)"
   ]
  },
  {
   "cell_type": "markdown",
   "metadata": {},
   "source": [
    "## Recursive"
   ]
  },
  {
   "cell_type": "code",
   "execution_count": 130,
   "metadata": {},
   "outputs": [
    {
     "name": "stdout",
     "output_type": "stream",
     "text": [
      "folder1/.gitignore 1634414393000 None\n",
      "folder1/file1.txt 1634414393000 None\n",
      "folder2/.gitignore 1634414393000 None\n",
      "folder2/file1.txt 1634414394000 None\n",
      "folder2/nested_folder1/.gitignore 1634414393000 None\n",
      "folder2/nested_folder1/file1.txt 1634414393000 None\n",
      "folder3/.gitignore 1634414393000 None\n",
      "folder3/file2.txt 1634414393000 None\n"
     ]
    }
   ],
   "source": [
    "for file_version, folder_name in bucket.ls(latest_only=True, recursive=True):\n",
    "    print(file_version.file_name, file_version.upload_timestamp, folder_name)"
   ]
  },
  {
   "cell_type": "markdown",
   "metadata": {},
   "source": [
    "# Restore"
   ]
  },
  {
   "cell_type": "code",
   "execution_count": 132,
   "metadata": {},
   "outputs": [
    {
     "name": "stdout",
     "output_type": "stream",
     "text": [
      "dnload folder1/.gitignore\n",
      "dnload folder2/nested_folder1/file1.txt\n",
      "dnload folder3/file2.txt\n",
      "dnload folder2/nested_folder1/.gitignore\n",
      "dnload folder1/file1.txt\n",
      "dnload folder3/.gitignore\n",
      "dnload folder2/file1.txt\n",
      "dnload folder2/.gitignore\n"
     ]
    }
   ],
   "source": [
    "src = parse_sync_folder('b2://maz-test', b2_api)\n",
    "dst = parse_sync_folder('./restored', b2_api,)\n",
    "\n",
    "policies_manager = ScanPoliciesManager(\n",
    "    exclude_all_symlinks=True,\n",
    ")\n",
    "\n",
    "synchronizer = Synchronizer(\n",
    "    max_workers=10,\n",
    "    policies_manager=policies_manager,\n",
    "    dry_run=False,\n",
    "    allow_empty_source=True,\n",
    "    compare_version_mode=CompareVersionMode.MODTIME,\n",
    "    compare_threshold=10,\n",
    "    newer_file_mode=NewerFileSyncMode.REPLACE,\n",
    "    keep_days_or_delete=KeepOrDeleteMode.DELETE, # delete old folders\n",
    "    keep_days=10,\n",
    ")\n",
    "\n",
    "no_progress = True\n",
    "with SyncReport(sys.stdout, no_progress) as reporter:\n",
    "    synchronizer.sync_folders(\n",
    "        source_folder=src,\n",
    "        dest_folder=dst,\n",
    "        now_millis=int(round(time.time() * 1000)),\n",
    "        reporter=reporter,\n",
    "    )"
   ]
  }
 ],
 "metadata": {
  "interpreter": {
   "hash": "407f1fbab082d13028ba157266443148c9e0bfdcb7cba78336658df9cb017270"
  },
  "kernelspec": {
   "display_name": "Python 3.8.8 64-bit ('test': conda)",
   "name": "python3"
  },
  "language_info": {
   "codemirror_mode": {
    "name": "ipython",
    "version": 3
   },
   "file_extension": ".py",
   "mimetype": "text/x-python",
   "name": "python",
   "nbconvert_exporter": "python",
   "pygments_lexer": "ipython3",
   "version": "3.8.8"
  },
  "orig_nbformat": 4
 },
 "nbformat": 4,
 "nbformat_minor": 2
}
